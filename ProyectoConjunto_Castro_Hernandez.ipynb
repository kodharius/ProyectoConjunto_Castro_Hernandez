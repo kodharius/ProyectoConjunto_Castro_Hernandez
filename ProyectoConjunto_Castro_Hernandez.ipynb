{
 "cells": [
  {
   "cell_type": "code",
   "execution_count": 2,
   "id": "10655b78",
   "metadata": {},
   "outputs": [
    {
     "name": "stdout",
     "output_type": "stream",
     "text": [
      "0 1 1 2 3 5\n"
     ]
    }
   ],
   "source": [
    "# Dario Castro Gonzalez if719910\n",
    "# Serie de fibonacci\n",
    "# La secuencia de fibonacci se determina con 0 y 1 y se suman los dos anteriores para dar resultado al siguiente.\n",
    "#Determinamos las primeras variables\n",
    "F0 = 0\n",
    "F1 = 1\n",
    "F2 = F1 + F0\n",
    "F3 = F2 + F1\n",
    "F4 = F3 + F2\n",
    "F5 = F4 + F3\n",
    "print(F0,F1,F2,F3,F4,F5)"
   ]
  },
  {
   "cell_type": "markdown",
   "id": "bdae2b9e",
   "metadata": {},
   "source": [
    "## Expectativas del curso\n",
    "Aprender modelos de simulacion para procesos financieros\n"
   ]
  },
  {
   "cell_type": "markdown",
   "id": "816da6b4",
   "metadata": {},
   "source": [
    "| i \t| 1 \t| 2 \t| 3 \t| 4 \t| 5 \t| 6 \t| 7 \t|\n",
    "|---\t|---\t|---\t|---\t|---\t|---\t|---\t|---\t|\n",
    "|$Ei(V) $ \t| 12 \t| 10 \t| 24 \t| 12 \t| - \t| - \t| - \t|\n",
    "|$Ri(\\Omega) $ \t| 0.1 \t| 0.5 \t| 0.2 \t| 0.2 \t| - \t| - \t| - \t|\n",
    "|$Ri(\\Omega)$ \t| 25 \t| 40 \t| 16 \t| 20 \t| 9 \t| 4 \t| 20 \t|"
   ]
  },
  {
   "cell_type": "code",
   "execution_count": 9,
   "id": "2cf5b8e2",
   "metadata": {},
   "outputs": [],
   "source": [
    "ant = 0\n",
    "act = 1\n",
    "#for i in range(100):\n",
    "  #  sig = ant + act\n",
    " #   ant = act\n",
    "#    act = sig\n",
    "#print(i,sig) #asi no imprime todo los valores lo hare como lista"
   ]
  },
  {
   "cell_type": "code",
   "execution_count": 22,
   "id": "8d289091",
   "metadata": {},
   "outputs": [
    {
     "name": "stdout",
     "output_type": "stream",
     "text": [
      "[0, 1, 1, 2, 3, 5, 8, 13, 21, 34, 55, 89, 144, 233, 377, 610, 987, 1597, 2584, 4181, 6765, 10946, 17711, 28657, 46368, 75025, 121393, 196418, 317811, 514229, 832040, 1346269, 2178309, 3524578, 5702887, 9227465, 14930352, 24157817, 39088169, 63245986, 102334155, 165580141, 267914296, 433494437, 701408733, 1134903170, 1836311903, 2971215073, 4807526976, 7778742049, 12586269025, 20365011074, 32951280099, 53316291173, 86267571272, 139583862445, 225851433717, 365435296162, 591286729879, 956722026041, 1548008755920, 2504730781961, 4052739537881, 6557470319842, 10610209857723, 17167680177565, 27777890035288, 44945570212853, 72723460248141, 117669030460994, 190392490709135, 308061521170129, 498454011879264, 806515533049393, 1304969544928657, 2111485077978050, 3416454622906707, 5527939700884757, 8944394323791464, 14472334024676221, 23416728348467685, 37889062373143906, 61305790721611591, 99194853094755497, 160500643816367088, 259695496911122585, 420196140727489673, 679891637638612258, 1100087778366101931, 1779979416004714189, 2880067194370816120, 4660046610375530309, 7540113804746346429, 12200160415121876738, 19740274219868223167, 31940434634990099905, 51680708854858323072, 83621143489848422977, 135301852344706746049, 218922995834555169026]\n"
     ]
    }
   ],
   "source": [
    "fib_list = [0 , 1]  # We populate the list with our initial values F_0=0, F_1=1\n",
    "for i in range(2,100):\n",
    "    ant = fib_list[i-2]\n",
    "    act = fib_list[i-1]\n",
    "    sig = ant + act\n",
    "    fib_list.append(sig)\n",
    "print(fib_list)  "
   ]
  },
  {
   "cell_type": "code",
   "execution_count": null,
   "id": "fdc09e66",
   "metadata": {},
   "outputs": [],
   "source": []
  }
 ],
 "metadata": {
  "kernelspec": {
   "display_name": "Python 3 (ipykernel)",
   "language": "python",
   "name": "python3"
  },
  "language_info": {
   "codemirror_mode": {
    "name": "ipython",
    "version": 3
   },
   "file_extension": ".py",
   "mimetype": "text/x-python",
   "name": "python",
   "nbconvert_exporter": "python",
   "pygments_lexer": "ipython3",
   "version": "3.9.12"
  }
 },
 "nbformat": 4,
 "nbformat_minor": 5
}
